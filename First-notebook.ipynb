{
 "cells": [
  {
   "attachments": {},
   "cell_type": "markdown",
   "metadata": {},
   "source": [
    "# Quantitative Finance Applications using Python"
   ]
  },
  {
   "cell_type": "code",
   "execution_count": 2,
   "metadata": {},
   "outputs": [],
   "source": [
    "# importing the main libraries (the rest of the libraries will be imported along the way)\n",
    "\n",
    "import numpy as np\n",
    "import pandas as pd\n",
    "import matplotlib.pyplot as plt\n",
    "import sklearn\n",
    "import statsmodels.api as sm\n",
    "import requests\n"
   ]
  },
  {
   "attachments": {},
   "cell_type": "markdown",
   "metadata": {},
   "source": [
    "First example is regarding an ARMA model using self-generated data"
   ]
  },
  {
   "cell_type": "code",
   "execution_count": 27,
   "metadata": {},
   "outputs": [
    {
     "data": {
      "text/html": [
       "<div>\n",
       "<style scoped>\n",
       "    .dataframe tbody tr th:only-of-type {\n",
       "        vertical-align: middle;\n",
       "    }\n",
       "\n",
       "    .dataframe tbody tr th {\n",
       "        vertical-align: top;\n",
       "    }\n",
       "\n",
       "    .dataframe thead th {\n",
       "        text-align: right;\n",
       "    }\n",
       "</style>\n",
       "<table border=\"1\" class=\"dataframe\">\n",
       "  <thead>\n",
       "    <tr style=\"text-align: right;\">\n",
       "      <th></th>\n",
       "      <th>Value</th>\n",
       "    </tr>\n",
       "  </thead>\n",
       "  <tbody>\n",
       "    <tr>\n",
       "      <th>2022-01-01</th>\n",
       "      <td>124.201869</td>\n",
       "    </tr>\n",
       "    <tr>\n",
       "      <th>2022-01-02</th>\n",
       "      <td>114.734567</td>\n",
       "    </tr>\n",
       "    <tr>\n",
       "      <th>2022-01-03</th>\n",
       "      <td>104.542470</td>\n",
       "    </tr>\n",
       "    <tr>\n",
       "      <th>2022-01-04</th>\n",
       "      <td>88.198728</td>\n",
       "    </tr>\n",
       "    <tr>\n",
       "      <th>2022-01-05</th>\n",
       "      <td>100.774407</td>\n",
       "    </tr>\n",
       "  </tbody>\n",
       "</table>\n",
       "</div>"
      ],
      "text/plain": [
       "                 Value\n",
       "2022-01-01  124.201869\n",
       "2022-01-02  114.734567\n",
       "2022-01-03  104.542470\n",
       "2022-01-04   88.198728\n",
       "2022-01-05  100.774407"
      ]
     },
     "execution_count": 27,
     "metadata": {},
     "output_type": "execute_result"
    }
   ],
   "source": [
    "np.random.seed(1)\n",
    "n = 365\n",
    "time = pd.date_range(start = '2022-01-01', periods = n, freq='D')\n",
    "random_walk = np.cumsum(np.random.normal(0,1, size = n))\n",
    "daily_return = np.random.normal(-0.01 , 0.01, size = n)\n",
    "\n",
    "value= 100 + 75 * (0.2*random_walk + 0.8*np.cumsum(daily_return))\n",
    "data = pd.DataFrame({'Value': value}, index=time)\n",
    "\n",
    "data.head()"
   ]
  },
  {
   "cell_type": "markdown",
   "metadata": {},
   "source": []
  },
  {
   "cell_type": "code",
   "execution_count": null,
   "metadata": {},
   "outputs": [],
   "source": []
  },
  {
   "cell_type": "code",
   "execution_count": null,
   "metadata": {},
   "outputs": [],
   "source": [
    "\n"
   ]
  },
  {
   "attachments": {},
   "cell_type": "markdown",
   "metadata": {},
   "source": [
    "The Augmented Dickey-Fuller (ADF) test is a statistical test used to determine whether a time series is stationary or non-stationary. A stationary time series is one in which the statistical properties such as the mean, variance, and autocorrelation do not change over time. A non-stationary time series, on the other hand, has statistical properties that change over time, such as a trend or seasonality.\n",
    "\n",
    "The ADF test is a modification of the Dickey-Fuller test, which tests for the presence of a unit root in a time series. A unit root is a root of the autoregressive characteristic equation that is equal to 1. If a time series has a unit root, it is non-stationary. The ADF test adds additional terms to the Dickey-Fuller test regression equation to account for higher-order autocorrelations in the data.\n",
    "\n",
    "The ADF test involves estimating a regression equation of the form:\n",
    "\n",
    "Δy(t) = α + βt + γy(t-1) + ΣδiΔy(t-i) + ε(t)\n",
    "\n",
    "where:\n",
    "\n",
    "Δy(t) is the first difference of the time series.\n",
    "α is a constant.\n",
    "β is the coefficient of time.\n",
    "γ is the coefficient of lagged y.\n",
    "ΣδiΔy(t-i) is the sum of the coefficients of the lagged differences.\n",
    "ε(t) is the error term.\n",
    "\n",
    "The null hypothesis of the ADF test is that the time series has a unit root, which means it is non-stationary. The test calculates a p-value, and if the p-value is less than the significance level (usually 0.05), then the null hypothesis is rejected, and the data is considered to be stationary. If the p-value is greater than or equal to the significance level, then the null hypothesis is not rejected, and the data is considered to be non-stationary.\n",
    "\n",
    "If the data is non-stationary, it may be necessary to apply a transformation or differencing to make it stationary before using it as input to a time series model."
   ]
  },
  {
   "cell_type": "code",
   "execution_count": 43,
   "metadata": {},
   "outputs": [],
   "source": [
    "from quant_finance_functions import check_stationarity"
   ]
  },
  {
   "cell_type": "code",
   "execution_count": 41,
   "metadata": {},
   "outputs": [
    {
     "data": {
      "text/plain": [
       "False"
      ]
     },
     "execution_count": 41,
     "metadata": {},
     "output_type": "execute_result"
    }
   ],
   "source": [
    "check_stationarity(data)"
   ]
  },
  {
   "cell_type": "code",
   "execution_count": 45,
   "metadata": {},
   "outputs": [
    {
     "ename": "ImportError",
     "evalue": "cannot import name 'time_series_summary' from 'quant_finance_functions' (d:\\GitHUB\\quant-finance\\quant-finance\\quant_finance_functions.py)",
     "output_type": "error",
     "traceback": [
      "\u001b[1;31m---------------------------------------------------------------------------\u001b[0m",
      "\u001b[1;31mImportError\u001b[0m                               Traceback (most recent call last)",
      "Cell \u001b[1;32mIn [45], line 1\u001b[0m\n\u001b[1;32m----> 1\u001b[0m \u001b[39mfrom\u001b[39;00m \u001b[39mquant_finance_functions\u001b[39;00m \u001b[39mimport\u001b[39;00m time_series_summary\n",
      "\u001b[1;31mImportError\u001b[0m: cannot import name 'time_series_summary' from 'quant_finance_functions' (d:\\GitHUB\\quant-finance\\quant-finance\\quant_finance_functions.py)"
     ]
    }
   ],
   "source": [
    "from quant_finance_functions import time_series_summary"
   ]
  },
  {
   "cell_type": "code",
   "execution_count": null,
   "metadata": {},
   "outputs": [],
   "source": []
  }
 ],
 "metadata": {
  "kernelspec": {
   "display_name": "Python 3",
   "language": "python",
   "name": "python3"
  },
  "language_info": {
   "codemirror_mode": {
    "name": "ipython",
    "version": 3
   },
   "file_extension": ".py",
   "mimetype": "text/x-python",
   "name": "python",
   "nbconvert_exporter": "python",
   "pygments_lexer": "ipython3",
   "version": "3.10.8"
  },
  "orig_nbformat": 4,
  "vscode": {
   "interpreter": {
    "hash": "fb4569285eef3a3450cb62085a5b1e0da4bce0af555edc33dcf29baf3acc1368"
   }
  }
 },
 "nbformat": 4,
 "nbformat_minor": 2
}
